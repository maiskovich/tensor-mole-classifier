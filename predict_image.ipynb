{
 "cells": [
  {
   "cell_type": "code",
   "execution_count": 1,
   "metadata": {
    "collapsed": false,
    "deletable": true,
    "editable": true
   },
   "outputs": [
    {
     "name": "stdout",
     "output_type": "stream",
     "text": [
      "Reading image\n",
      "[29 29 43 ...,  7  9 10]\n",
      "Model restored.\n",
      "Initialized\n",
      "[1]\n"
     ]
    }
   ],
   "source": [
    "import os\n",
    "import tensorflow as tf\n",
    "import sys\n",
    "import urllib\n",
    "import numpy as np\n",
    "import pdb\n",
    "import dataset\n",
    "# image dimensions (only squares for now)\n",
    "img_size = 128\n",
    "# Number of color channels for the images: 1 channel for gray-scale.\n",
    "num_channels = 3\n",
    "# Size of image when flattened to a single dimension\n",
    "img_size_flat = img_size * img_size * num_channels\n",
    "\n",
    "predict_path='/home/mati/Documentos/Harvard/bigdata/finalproject/dataset/ISIC-Dataset-Downloader/individual/malignant/54e755f4bae47850e86cdfd1.jpg'\n",
    "images = dataset.read_individual_image(predict_path, 128)\n",
    "images = images.reshape( img_size_flat)\n",
    "print (images)\n",
    "with tf.Session() as session:\n",
    "    model_saver = tf.train.import_meta_graph('skin.meta')\n",
    "    model_saver.restore(session, os.path.join(os.getcwd(), 'skin.ckpt'))\n",
    "    print(\"Model restored.\") \n",
    "    print('Initialized')\n",
    "    logits = predict_op = tf.get_collection(\"logits\")[0]\n",
    "    classification = session.run(tf.argmax(logits, 1), feed_dict= {\"x:0\": [images]})\n",
    "    print(classification)"
   ]
  },
  {
   "cell_type": "code",
   "execution_count": null,
   "metadata": {
    "collapsed": true,
    "deletable": true,
    "editable": true
   },
   "outputs": [],
   "source": []
  }
 ],
 "metadata": {
  "kernelspec": {
   "display_name": "Python 2 Tensor",
   "language": "python",
   "name": "venv"
  },
  "language_info": {
   "codemirror_mode": {
    "name": "ipython",
    "version": 2
   },
   "file_extension": ".py",
   "mimetype": "text/x-python",
   "name": "python",
   "nbconvert_exporter": "python",
   "pygments_lexer": "ipython2",
   "version": "2.7.6"
  }
 },
 "nbformat": 4,
 "nbformat_minor": 2
}
